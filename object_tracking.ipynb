{
 "cells": [
  {
   "cell_type": "markdown",
   "metadata": {},
   "source": [
    "Install module yang dibutuhkan"
   ]
  },
  {
   "cell_type": "code",
   "execution_count": null,
   "metadata": {},
   "outputs": [],
   "source": [
    "!pip install numpy \n",
    "!pip install scipy \n",
    "!pip install imutils"
   ]
  },
  {
   "cell_type": "markdown",
   "metadata": {},
   "source": [
    "Cara jalanin"
   ]
  },
  {
   "cell_type": "markdown",
   "metadata": {},
   "source": [
    "python object_tracker.py --prototxt deploy.prototxt \\ --model res10_300x300_ssd_iter_140000.caffemodel"
   ]
  },
  {
   "cell_type": "code",
   "execution_count": 1,
   "metadata": {},
   "outputs": [
    {
     "ename": "SyntaxError",
     "evalue": "unexpected character after line continuation character (Temp/ipykernel_10616/414703460.py, line 1)",
     "output_type": "error",
     "traceback": [
      "\u001b[1;36m  File \u001b[1;32m\"C:\\Users\\Suhendra\\AppData\\Local\\Temp/ipykernel_10616/414703460.py\"\u001b[1;36m, line \u001b[1;32m1\u001b[0m\n\u001b[1;33m    python object_tracker.py --prototxt deploy.prototxt \\ --model res10_300x300_ssd_iter_140000.caffemodel\u001b[0m\n\u001b[1;37m                                                         ^\u001b[0m\n\u001b[1;31mSyntaxError\u001b[0m\u001b[1;31m:\u001b[0m unexpected character after line continuation character\n"
     ]
    }
   ],
   "source": [
    "python object_tracker.py --prototxt deploy.prototxt \\ --model res10_300x300_ssd_iter_140000.caffemodel"
   ]
  }
 ],
 "metadata": {
  "kernelspec": {
   "display_name": "Python 3.10.8 64-bit",
   "language": "python",
   "name": "python3"
  },
  "language_info": {
   "codemirror_mode": {
    "name": "ipython",
    "version": 3
   },
   "file_extension": ".py",
   "mimetype": "text/x-python",
   "name": "python",
   "nbconvert_exporter": "python",
   "pygments_lexer": "ipython3",
   "version": "3.10.8"
  },
  "orig_nbformat": 4,
  "vscode": {
   "interpreter": {
    "hash": "06b5f4eac5c25f9eb9c545b26505872b187cd20f88c0599fa06ea88c84fa4731"
   }
  }
 },
 "nbformat": 4,
 "nbformat_minor": 2
}
